{
 "cells": [
  {
   "cell_type": "code",
   "execution_count": 1,
   "metadata": {},
   "outputs": [],
   "source": [
    "import os\n",
    "import torch\n",
    "import math\n",
    "\n",
    "import pandas as pd\n",
    "import torch.nn as nn\n",
    "\n",
    "from torch.utils.data import DataLoader\n",
    "from tensorboardX import SummaryWriter\n",
    "from utils import train_loop, val_loop\n",
    "from model import MyDataset, CryptoTransformer, MSEPlusRank"
   ]
  },
  {
   "cell_type": "code",
   "execution_count": 2,
   "metadata": {},
   "outputs": [],
   "source": [
    "# hyperparameters\n",
    "BATCH_SIZE = 64\n",
    "NUM_FEATURES = 68\n",
    "MODEL_DIM = 64\n",
    "FFN_DIM = 128\n",
    "DROPOUT = 0.3\n",
    "NUM_HEADS = 2\n",
    "NUM_LAYERS = 2\n",
    "MAX_EPOCH = 10\n",
    "experiment_name = 'model_v1.1'\n",
    "\n",
    "if torch.cuda.is_available():\n",
    "    device = 'cuda'\n",
    "elif torch.backends.mps.is_available():\n",
    "    device = 'mps'\n",
    "else:\n",
    "    device = 'cpu'"
   ]
  },
  {
   "cell_type": "code",
   "execution_count": 3,
   "metadata": {},
   "outputs": [],
   "source": [
    "train_length = 24236806\n",
    "num_splits = 10\n",
    "split_length = math.floor(train_length/num_splits)\n",
    "\n",
    "processed_val = pd.read_csv('./processed_data/processed_val.gz')\n",
    "val_dataset = MyDataset(processed_val)\n",
    "val_dataloader = DataLoader(val_dataset, batch_size=BATCH_SIZE, shuffle=True)"
   ]
  },
  {
   "cell_type": "code",
   "execution_count": 4,
   "metadata": {},
   "outputs": [
    {
     "name": "stdout",
     "output_type": "stream",
     "text": [
      "Total number of parameters: 105K, number of trainable parameters: 105K\n"
     ]
    }
   ],
   "source": [
    "net = CryptoTransformer(model_dim=MODEL_DIM, num_heads=NUM_HEADS, num_layers=NUM_LAYERS, dropout=DROPOUT, ffn_dim=FFN_DIM, num_features=NUM_FEATURES).to(device)\n",
    "loss_fn = MSEPlusRank(lamda=1)\n",
    "optimizer = torch.optim.AdamW(net.parameters())\n",
    "total_num = sum(p.numel() for p in net.parameters())\n",
    "trainable_num = sum(p.numel() for p in net.parameters() if p.requires_grad)\n",
    "print(f\"Total number of parameters: {total_num/1e3:.0f}K, number of trainable parameters: {trainable_num/1e3:.0f}K\")"
   ]
  },
  {
   "cell_type": "code",
   "execution_count": 5,
   "metadata": {},
   "outputs": [],
   "source": [
    "if not os.path.exists(f'./checkpoint/{experiment_name}'):\n",
    "    os.mkdir(f'./checkpoint/{experiment_name}')\n",
    "if not os.path.exists(f'./logs/{experiment_name}'):\n",
    "    os.mkdir(f'./logs/{experiment_name}')"
   ]
  },
  {
   "cell_type": "code",
   "execution_count": 6,
   "metadata": {},
   "outputs": [
    {
     "name": "stdout",
     "output_type": "stream",
     "text": [
      "Epoch 1, Train Split: 1\n",
      "--------------------------\n"
     ]
    },
    {
     "name": "stderr",
     "output_type": "stream",
     "text": [
      "100%|█████████▉| 3209/3210 [02:12<00:00, 24.24it/s, train loss=0.00824]\n"
     ]
    },
    {
     "ename": "RuntimeError",
     "evalue": "shape '[64, 1, 14]' is invalid for input of size 364",
     "output_type": "error",
     "traceback": [
      "\u001b[0;31m---------------------------------------------------------------------------\u001b[0m",
      "\u001b[0;31mRuntimeError\u001b[0m                              Traceback (most recent call last)",
      "\u001b[1;32m/Users/luoxinyang/Desktop/HKUST/2023Fall/MAFS6010Z/project3.nosync/train.ipynb.ipynb 单元格 6\u001b[0m line \u001b[0;36m1\n\u001b[1;32m     <a href='vscode-notebook-cell:/Users/luoxinyang/Desktop/HKUST/2023Fall/MAFS6010Z/project3.nosync/train.ipynb.ipynb#W5sZmlsZQ%3D%3D?line=10'>11</a>\u001b[0m train_dataset \u001b[39m=\u001b[39m MyDataset(processed_train)\n\u001b[1;32m     <a href='vscode-notebook-cell:/Users/luoxinyang/Desktop/HKUST/2023Fall/MAFS6010Z/project3.nosync/train.ipynb.ipynb#W5sZmlsZQ%3D%3D?line=11'>12</a>\u001b[0m train_dataloader \u001b[39m=\u001b[39m DataLoader(train_dataset, batch_size\u001b[39m=\u001b[39mBATCH_SIZE, shuffle\u001b[39m=\u001b[39m\u001b[39mTrue\u001b[39;00m)\n\u001b[0;32m---> <a href='vscode-notebook-cell:/Users/luoxinyang/Desktop/HKUST/2023Fall/MAFS6010Z/project3.nosync/train.ipynb.ipynb#W5sZmlsZQ%3D%3D?line=12'>13</a>\u001b[0m train_loss \u001b[39m=\u001b[39m train_loop(train_dataloader, net, loss_fn, optimizer, device)\n\u001b[1;32m     <a href='vscode-notebook-cell:/Users/luoxinyang/Desktop/HKUST/2023Fall/MAFS6010Z/project3.nosync/train.ipynb.ipynb#W5sZmlsZQ%3D%3D?line=14'>15</a>\u001b[0m val_loss \u001b[39m=\u001b[39m val_loop(val_dataloader, net, loss_fn, device)\n\u001b[1;32m     <a href='vscode-notebook-cell:/Users/luoxinyang/Desktop/HKUST/2023Fall/MAFS6010Z/project3.nosync/train.ipynb.ipynb#W5sZmlsZQ%3D%3D?line=15'>16</a>\u001b[0m tb\u001b[39m.\u001b[39madd_scalar(\u001b[39m\"\u001b[39m\u001b[39mTrain Loss\u001b[39m\u001b[39m\"\u001b[39m, train_loss, t\u001b[39m*\u001b[39mnum_splits\u001b[39m+\u001b[39mi\u001b[39m+\u001b[39m\u001b[39m1\u001b[39m)\n",
      "File \u001b[0;32m~/Desktop/HKUST/2023Fall/MAFS6010Z/project3.nosync/utils.py:149\u001b[0m, in \u001b[0;36mtrain_loop\u001b[0;34m(dataloader, net, loss_fn, optimizer, device)\u001b[0m\n\u001b[1;32m    146\u001b[0m mask \u001b[39m=\u001b[39m torch\u001b[39m.\u001b[39marange(\u001b[39m14\u001b[39m)\u001b[39m.\u001b[39mexpand(batch_size, \u001b[39m14\u001b[39m)\u001b[39m.\u001b[39mto(device)\n\u001b[1;32m    147\u001b[0m mask \u001b[39m=\u001b[39m mask \u001b[39m<\u001b[39m num_assets\u001b[39m.\u001b[39munsqueeze(\u001b[39m1\u001b[39m)\n\u001b[0;32m--> 149\u001b[0m loss \u001b[39m=\u001b[39m loss_fn(y_pred, y, mask)\n\u001b[1;32m    151\u001b[0m optimizer\u001b[39m.\u001b[39mzero_grad()\n\u001b[1;32m    152\u001b[0m loss\u001b[39m.\u001b[39mbackward()\n",
      "File \u001b[0;32m~/opt/anaconda3/envs/gresearch/lib/python3.9/site-packages/torch/nn/modules/module.py:1518\u001b[0m, in \u001b[0;36mModule._wrapped_call_impl\u001b[0;34m(self, *args, **kwargs)\u001b[0m\n\u001b[1;32m   1516\u001b[0m     \u001b[39mreturn\u001b[39;00m \u001b[39mself\u001b[39m\u001b[39m.\u001b[39m_compiled_call_impl(\u001b[39m*\u001b[39margs, \u001b[39m*\u001b[39m\u001b[39m*\u001b[39mkwargs)  \u001b[39m# type: ignore[misc]\u001b[39;00m\n\u001b[1;32m   1517\u001b[0m \u001b[39melse\u001b[39;00m:\n\u001b[0;32m-> 1518\u001b[0m     \u001b[39mreturn\u001b[39;00m \u001b[39mself\u001b[39;49m\u001b[39m.\u001b[39;49m_call_impl(\u001b[39m*\u001b[39;49margs, \u001b[39m*\u001b[39;49m\u001b[39m*\u001b[39;49mkwargs)\n",
      "File \u001b[0;32m~/opt/anaconda3/envs/gresearch/lib/python3.9/site-packages/torch/nn/modules/module.py:1527\u001b[0m, in \u001b[0;36mModule._call_impl\u001b[0;34m(self, *args, **kwargs)\u001b[0m\n\u001b[1;32m   1522\u001b[0m \u001b[39m# If we don't have any hooks, we want to skip the rest of the logic in\u001b[39;00m\n\u001b[1;32m   1523\u001b[0m \u001b[39m# this function, and just call forward.\u001b[39;00m\n\u001b[1;32m   1524\u001b[0m \u001b[39mif\u001b[39;00m \u001b[39mnot\u001b[39;00m (\u001b[39mself\u001b[39m\u001b[39m.\u001b[39m_backward_hooks \u001b[39mor\u001b[39;00m \u001b[39mself\u001b[39m\u001b[39m.\u001b[39m_backward_pre_hooks \u001b[39mor\u001b[39;00m \u001b[39mself\u001b[39m\u001b[39m.\u001b[39m_forward_hooks \u001b[39mor\u001b[39;00m \u001b[39mself\u001b[39m\u001b[39m.\u001b[39m_forward_pre_hooks\n\u001b[1;32m   1525\u001b[0m         \u001b[39mor\u001b[39;00m _global_backward_pre_hooks \u001b[39mor\u001b[39;00m _global_backward_hooks\n\u001b[1;32m   1526\u001b[0m         \u001b[39mor\u001b[39;00m _global_forward_hooks \u001b[39mor\u001b[39;00m _global_forward_pre_hooks):\n\u001b[0;32m-> 1527\u001b[0m     \u001b[39mreturn\u001b[39;00m forward_call(\u001b[39m*\u001b[39;49margs, \u001b[39m*\u001b[39;49m\u001b[39m*\u001b[39;49mkwargs)\n\u001b[1;32m   1529\u001b[0m \u001b[39mtry\u001b[39;00m:\n\u001b[1;32m   1530\u001b[0m     result \u001b[39m=\u001b[39m \u001b[39mNone\u001b[39;00m\n",
      "File \u001b[0;32m~/Desktop/HKUST/2023Fall/MAFS6010Z/project3.nosync/model.py:92\u001b[0m, in \u001b[0;36mMSEPlusRank.forward\u001b[0;34m(self, y_pred, y_true, mask)\u001b[0m\n\u001b[1;32m     90\u001b[0m \u001b[39mdef\u001b[39;00m \u001b[39mforward\u001b[39m(\u001b[39mself\u001b[39m, y_pred, y_true, mask):\n\u001b[1;32m     91\u001b[0m     loss1 \u001b[39m=\u001b[39m \u001b[39mself\u001b[39m\u001b[39m.\u001b[39mmse(y_pred, y_true, mask)\n\u001b[0;32m---> 92\u001b[0m     loss2 \u001b[39m=\u001b[39m \u001b[39mself\u001b[39;49m\u001b[39m.\u001b[39;49mrankloss(y_pred, y_true, mask)\n\u001b[1;32m     93\u001b[0m     loss \u001b[39m=\u001b[39m loss1 \u001b[39m+\u001b[39m \u001b[39mself\u001b[39m\u001b[39m.\u001b[39mlamda\u001b[39m*\u001b[39mloss2\n\u001b[1;32m     94\u001b[0m     \u001b[39mreturn\u001b[39;00m loss\n",
      "File \u001b[0;32m~/opt/anaconda3/envs/gresearch/lib/python3.9/site-packages/torch/nn/modules/module.py:1518\u001b[0m, in \u001b[0;36mModule._wrapped_call_impl\u001b[0;34m(self, *args, **kwargs)\u001b[0m\n\u001b[1;32m   1516\u001b[0m     \u001b[39mreturn\u001b[39;00m \u001b[39mself\u001b[39m\u001b[39m.\u001b[39m_compiled_call_impl(\u001b[39m*\u001b[39margs, \u001b[39m*\u001b[39m\u001b[39m*\u001b[39mkwargs)  \u001b[39m# type: ignore[misc]\u001b[39;00m\n\u001b[1;32m   1517\u001b[0m \u001b[39melse\u001b[39;00m:\n\u001b[0;32m-> 1518\u001b[0m     \u001b[39mreturn\u001b[39;00m \u001b[39mself\u001b[39;49m\u001b[39m.\u001b[39;49m_call_impl(\u001b[39m*\u001b[39;49margs, \u001b[39m*\u001b[39;49m\u001b[39m*\u001b[39;49mkwargs)\n",
      "File \u001b[0;32m~/opt/anaconda3/envs/gresearch/lib/python3.9/site-packages/torch/nn/modules/module.py:1527\u001b[0m, in \u001b[0;36mModule._call_impl\u001b[0;34m(self, *args, **kwargs)\u001b[0m\n\u001b[1;32m   1522\u001b[0m \u001b[39m# If we don't have any hooks, we want to skip the rest of the logic in\u001b[39;00m\n\u001b[1;32m   1523\u001b[0m \u001b[39m# this function, and just call forward.\u001b[39;00m\n\u001b[1;32m   1524\u001b[0m \u001b[39mif\u001b[39;00m \u001b[39mnot\u001b[39;00m (\u001b[39mself\u001b[39m\u001b[39m.\u001b[39m_backward_hooks \u001b[39mor\u001b[39;00m \u001b[39mself\u001b[39m\u001b[39m.\u001b[39m_backward_pre_hooks \u001b[39mor\u001b[39;00m \u001b[39mself\u001b[39m\u001b[39m.\u001b[39m_forward_hooks \u001b[39mor\u001b[39;00m \u001b[39mself\u001b[39m\u001b[39m.\u001b[39m_forward_pre_hooks\n\u001b[1;32m   1525\u001b[0m         \u001b[39mor\u001b[39;00m _global_backward_pre_hooks \u001b[39mor\u001b[39;00m _global_backward_hooks\n\u001b[1;32m   1526\u001b[0m         \u001b[39mor\u001b[39;00m _global_forward_hooks \u001b[39mor\u001b[39;00m _global_forward_pre_hooks):\n\u001b[0;32m-> 1527\u001b[0m     \u001b[39mreturn\u001b[39;00m forward_call(\u001b[39m*\u001b[39;49margs, \u001b[39m*\u001b[39;49m\u001b[39m*\u001b[39;49mkwargs)\n\u001b[1;32m   1529\u001b[0m \u001b[39mtry\u001b[39;00m:\n\u001b[1;32m   1530\u001b[0m     result \u001b[39m=\u001b[39m \u001b[39mNone\u001b[39;00m\n",
      "File \u001b[0;32m~/Desktop/HKUST/2023Fall/MAFS6010Z/project3.nosync/model.py:79\u001b[0m, in \u001b[0;36mPairWiseRankingLoss.forward\u001b[0;34m(self, y_pred, y_true, mask)\u001b[0m\n\u001b[1;32m     77\u001b[0m y_pred_diff \u001b[39m=\u001b[39m y_pred\u001b[39m.\u001b[39mreshape(batch_size, n, \u001b[39m1\u001b[39m) \u001b[39m-\u001b[39m y_pred\u001b[39m.\u001b[39mreshape(batch_size, \u001b[39m1\u001b[39m, n)\n\u001b[1;32m     78\u001b[0m y_true_diff \u001b[39m=\u001b[39m y_true\u001b[39m.\u001b[39mreshape(batch_size, n, \u001b[39m1\u001b[39m) \u001b[39m-\u001b[39m y_true\u001b[39m.\u001b[39mreshape(batch_size, \u001b[39m1\u001b[39m, n)\n\u001b[0;32m---> 79\u001b[0m mask \u001b[39m=\u001b[39m mask\u001b[39m.\u001b[39;49mreshape(\u001b[39m64\u001b[39;49m, \u001b[39m1\u001b[39;49m, \u001b[39m14\u001b[39;49m)\u001b[39m*\u001b[39mmask\u001b[39m.\u001b[39mreshape(\u001b[39m64\u001b[39m, \u001b[39m14\u001b[39m, \u001b[39m1\u001b[39m)\n\u001b[1;32m     80\u001b[0m total_loss \u001b[39m=\u001b[39m F\u001b[39m.\u001b[39mrelu(\u001b[39m-\u001b[39my_pred_diff\u001b[39m*\u001b[39my_true_diff\u001b[39m*\u001b[39mmask)\n\u001b[1;32m     81\u001b[0m \u001b[39mreturn\u001b[39;00m total_loss\u001b[39m.\u001b[39mmean()\n",
      "\u001b[0;31mRuntimeError\u001b[0m: shape '[64, 1, 14]' is invalid for input of size 364"
     ]
    }
   ],
   "source": [
    "min_val_loss = float('inf')\n",
    "best_epoch = 1\n",
    "best_step = 1\n",
    "step = 0\n",
    "\n",
    "tb = SummaryWriter(log_dir=f'./logs/{experiment_name}/')\n",
    "for t in range(1, MAX_EPOCH+1):\n",
    "    for i in range(num_splits):\n",
    "        print(f\"Epoch {t}, Train Split: {i+1}\\n--------------------------\")\n",
    "        processed_train = pd.read_csv('./processed_data/processed_train.gz', skiprows=range(1,split_length*2), nrows=split_length)        \n",
    "        train_dataset = MyDataset(processed_train)\n",
    "        train_dataloader = DataLoader(train_dataset, batch_size=BATCH_SIZE, shuffle=True)\n",
    "        train_loss = train_loop(train_dataloader, net, loss_fn, optimizer, device)\n",
    "\n",
    "        val_loss = val_loop(val_dataloader, net, loss_fn, device)\n",
    "        tb.add_scalar(\"Train Loss\", train_loss, t*num_splits+i+1)\n",
    "        tb.add_scalar(\"Val Loss\", val_loss, t*num_splits+i+1)\n",
    "    \n",
    "        torch.save(net, f\"./checkpoint/{experiment_name}/epoch_{t}_step_{i+1}.pt\")\n",
    "        if val_loss < min_val_loss:\n",
    "            best_epoch = t\n",
    "            best_step = i+1\n",
    "            min_val_loss = val_loss\n",
    "print(f\"best epoch: {best_epoch}, best step: {best_step}, minimun validations loss: {min_val_loss:.2e}\")"
   ]
  },
  {
   "cell_type": "code",
   "execution_count": null,
   "metadata": {},
   "outputs": [],
   "source": []
  }
 ],
 "metadata": {
  "kernelspec": {
   "display_name": "gresearch",
   "language": "python",
   "name": "python3"
  },
  "language_info": {
   "codemirror_mode": {
    "name": "ipython",
    "version": 3
   },
   "file_extension": ".py",
   "mimetype": "text/x-python",
   "name": "python",
   "nbconvert_exporter": "python",
   "pygments_lexer": "ipython3",
   "version": "3.9.18"
  }
 },
 "nbformat": 4,
 "nbformat_minor": 2
}

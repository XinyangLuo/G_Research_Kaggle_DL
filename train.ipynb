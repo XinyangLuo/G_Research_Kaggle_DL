{
 "cells": [
  {
   "cell_type": "code",
   "execution_count": 1,
   "metadata": {},
   "outputs": [],
   "source": [
    "import os\n",
    "import torch\n",
    "import math\n",
    "\n",
    "import pandas as pd\n",
    "\n",
    "from torch.utils.data import DataLoader\n",
    "from tensorboardX import SummaryWriter\n",
    "from utils import train_loop, val_loop\n",
    "from model import MyDataset, CryptoTransformer, MSEPlusRank"
   ]
  },
  {
   "cell_type": "code",
   "execution_count": 2,
   "metadata": {},
   "outputs": [],
   "source": [
    "# hyperparameters\n",
    "BATCH_SIZE = 64\n",
    "NUM_FEATURES = 68\n",
    "MODEL_DIM = 64\n",
    "FFN_DIM = 128\n",
    "DROPOUT = 0.3\n",
    "NUM_HEADS = 2\n",
    "NUM_LAYERS = 2\n",
    "MAX_EPOCH = 10\n",
    "experiment_name = 'model_v1.1'\n",
    "\n",
    "if torch.cuda.is_available():\n",
    "    device = 'cuda'\n",
    "else:\n",
    "    device = 'cpu'"
   ]
  },
  {
   "cell_type": "code",
   "execution_count": 3,
   "metadata": {},
   "outputs": [],
   "source": [
    "train_length = 24236806\n",
    "num_splits = 10\n",
    "split_length = math.floor(train_length/num_splits)\n",
    "\n",
    "processed_val = pd.read_csv('./processed_data/processed_val.gz')\n",
    "val_dataset = MyDataset(processed_val)\n",
    "val_dataloader = DataLoader(val_dataset, batch_size=BATCH_SIZE, shuffle=True)"
   ]
  },
  {
   "cell_type": "code",
   "execution_count": 4,
   "metadata": {},
   "outputs": [
    {
     "name": "stdout",
     "output_type": "stream",
     "text": [
      "Total number of parameters: 105K, number of trainable parameters: 105K\n"
     ]
    }
   ],
   "source": [
    "net = CryptoTransformer(model_dim=MODEL_DIM, num_heads=NUM_HEADS, num_layers=NUM_LAYERS, dropout=DROPOUT, ffn_dim=FFN_DIM, num_features=NUM_FEATURES).to(device)\n",
    "loss_fn = MSEPlusRank(lamda=1)\n",
    "optimizer = torch.optim.AdamW(net.parameters())\n",
    "total_num = sum(p.numel() for p in net.parameters())\n",
    "trainable_num = sum(p.numel() for p in net.parameters() if p.requires_grad)\n",
    "print(f\"Total number of parameters: {total_num/1e3:.0f}K, number of trainable parameters: {trainable_num/1e3:.0f}K\")"
   ]
  },
  {
   "cell_type": "code",
   "execution_count": 5,
   "metadata": {},
   "outputs": [],
   "source": [
    "if not os.path.exists(f'./checkpoint/{experiment_name}'):\n",
    "    os.mkdir(f'./checkpoint/{experiment_name}')\n",
    "if not os.path.exists(f'./logs/{experiment_name}'):\n",
    "    os.mkdir(f'./logs/{experiment_name}')"
   ]
  },
  {
   "cell_type": "code",
   "execution_count": 6,
   "metadata": {},
   "outputs": [
    {
     "name": "stdout",
     "output_type": "stream",
     "text": [
      "Epoch 1, Train Split: 1\n",
      "--------------------------\n"
     ]
    },
    {
     "name": "stderr",
     "output_type": "stream",
     "text": [
      "100%|██████████| 3210/3210 [01:43<00:00, 31.16it/s, train loss=0.00809]\n",
      "  0%|          | 0/1266 [00:00<?, ?it/s]/Users/luoxinyang/opt/anaconda3/envs/gresearch/lib/python3.9/site-packages/torch/nn/modules/transformer.py:380: UserWarning: The PyTorch API of nested tensors is in prototype stage and will change in the near future. (Triggered internally at /Users/runner/work/_temp/anaconda/conda-bld/pytorch_1699448801785/work/aten/src/ATen/NestedTensorImpl.cpp:180.)\n",
      "  output = torch._nested_tensor_from_mask(output, src_key_padding_mask.logical_not(), mask_check=False)\n",
      "100%|██████████| 1266/1266 [00:29<00:00, 42.45it/s, val loss=0.011]  \n"
     ]
    },
    {
     "name": "stdout",
     "output_type": "stream",
     "text": [
      "Epoch 1, Train Split: 2\n",
      "--------------------------\n"
     ]
    },
    {
     "name": "stderr",
     "output_type": "stream",
     "text": [
      "100%|██████████| 3210/3210 [02:03<00:00, 26.04it/s, train loss=7.17e-5] \n",
      "100%|██████████| 1266/1266 [00:36<00:00, 34.72it/s, val loss=0.00726]\n"
     ]
    },
    {
     "name": "stdout",
     "output_type": "stream",
     "text": [
      "Epoch 1, Train Split: 3\n",
      "--------------------------\n"
     ]
    },
    {
     "name": "stderr",
     "output_type": "stream",
     "text": [
      " 88%|████████▊ | 2818/3210 [01:42<00:14, 27.06it/s, train loss=3.78e-5]"
     ]
    }
   ],
   "source": [
    "min_val_loss = float('inf')\n",
    "best_epoch = 1\n",
    "best_step = 1\n",
    "step = 0\n",
    "\n",
    "tb = SummaryWriter(log_dir=f'./logs/{experiment_name}/')\n",
    "for t in range(MAX_EPOCH):\n",
    "    for i in range(num_splits):\n",
    "        print(f\"Epoch {t+1}, Train Split: {i+1}\\n--------------------------\")\n",
    "        processed_train = pd.read_csv('./processed_data/processed_train.gz', skiprows=range(1,split_length*2), nrows=split_length)        \n",
    "        train_dataset = MyDataset(processed_train)\n",
    "        train_dataloader = DataLoader(train_dataset, batch_size=BATCH_SIZE, shuffle=True)\n",
    "        train_loss = train_loop(train_dataloader, net, loss_fn, optimizer, device)\n",
    "\n",
    "        val_loss = val_loop(val_dataloader, net, loss_fn, device)\n",
    "        tb.add_scalar(\"Train Loss\", train_loss, t*num_splits+i+1)\n",
    "        tb.add_scalar(\"Val Loss\", val_loss, t*num_splits+i+1)\n",
    "    \n",
    "        torch.save(net, f\"./checkpoint/{experiment_name}/epoch_{t}_step_{i+1}.pt\")\n",
    "        if val_loss < min_val_loss:\n",
    "            best_epoch = t+1\n",
    "            best_step = i+1\n",
    "            min_val_loss = val_loss\n",
    "print(f\"best epoch: {best_epoch}, best step: {best_step}, minimun validations loss: {min_val_loss:.2e}\")"
   ]
  }
 ],
 "metadata": {
  "kernelspec": {
   "display_name": "gresearch",
   "language": "python",
   "name": "python3"
  },
  "language_info": {
   "codemirror_mode": {
    "name": "ipython",
    "version": 3
   },
   "file_extension": ".py",
   "mimetype": "text/x-python",
   "name": "python",
   "nbconvert_exporter": "python",
   "pygments_lexer": "ipython3",
   "version": "3.9.18"
  }
 },
 "nbformat": 4,
 "nbformat_minor": 2
}

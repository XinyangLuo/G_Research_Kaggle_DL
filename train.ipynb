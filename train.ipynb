{
 "cells": [
  {
   "cell_type": "code",
   "execution_count": null,
   "metadata": {},
   "outputs": [],
   "source": [
    "import os\n",
    "import torch\n",
    "import math\n",
    "\n",
    "import pandas as pd\n",
    "import torch.nn as nn\n",
    "\n",
    "from torch.utils.data import DataLoader\n",
    "from tensorboardX import SummaryWriter\n",
    "from utils import train_loop, val_loop\n",
    "from model import MyDataset, CryptoTransformer"
   ]
  },
  {
   "cell_type": "code",
   "execution_count": null,
   "metadata": {},
   "outputs": [],
   "source": [
    "# hyperparameters\n",
    "BATCH_SIZE = 64\n",
    "NUM_FEATURES = 68\n",
    "MODEL_DIM = 64\n",
    "FFN_DIM = 128\n",
    "DROPOUT = 0.3\n",
    "NUM_HEADS = 2\n",
    "NUM_LAYERS = 2\n",
    "MAX_EPOCH = 10\n",
    "experiment_name = 'model_v1.0'\n",
    "\n",
    "if torch.cuda.is_available():\n",
    "    device = 'cuda'\n",
    "elif torch.backends.mps.is_available():\n",
    "    device = 'mps'\n",
    "else:\n",
    "    device = 'cpu'"
   ]
  },
  {
   "cell_type": "code",
   "execution_count": null,
   "metadata": {},
   "outputs": [],
   "source": [
    "train_length = 24236806\n",
    "num_splits = 10\n",
    "split_length = math.floor(train_length/num_splits)\n",
    "\n",
    "processed_val = pd.read_csv('./processed_data/processed_val.gz')\n",
    "val_dataset = MyDataset(processed_val)\n",
    "val_dataloader = DataLoader(val_dataset, batch_size=BATCH_SIZE, shuffle=True)"
   ]
  },
  {
   "cell_type": "code",
   "execution_count": null,
   "metadata": {},
   "outputs": [],
   "source": [
    "net = CryptoTransformer(model_dim=MODEL_DIM, num_heads=NUM_HEADS, num_layers=NUM_LAYERS, dropout=DROPOUT, ffn_dim=FFN_DIM, num_features=NUM_FEATURES).to(device)\n",
    "loss_fn = nn.MSELoss(reduction='mean')\n",
    "optimizer = torch.optim.AdamW(net.parameters())\n",
    "total_num = sum(p.numel() for p in net.parameters())\n",
    "trainable_num = sum(p.numel() for p in net.parameters() if p.requires_grad)\n",
    "print(f\"Total number of parameters: {total_num/1e3:.0f}K, number of trainable parameters: {trainable_num/1e3:.0f}K\")"
   ]
  },
  {
   "cell_type": "code",
   "execution_count": null,
   "metadata": {},
   "outputs": [],
   "source": [
    "if not os.path.exists(f'./checkpoint/{experiment_name}'):\n",
    "    os.mkdir(f'./checkpoint/{experiment_name}')\n",
    "if not os.path.exists(f'./logs/{experiment_name}'):\n",
    "    os.mkdir(f'./logs/{experiment_name}')"
   ]
  },
  {
   "cell_type": "code",
   "execution_count": null,
   "metadata": {},
   "outputs": [],
   "source": [
    "min_val_loss = float('inf')\n",
    "best_epoch = 1\n",
    "best_step = 1\n",
    "step = 0\n",
    "\n",
    "tb = SummaryWriter(log_dir=f'./logs/experiment_name/')\n",
    "for t in range(1, MAX_EPOCH+1):\n",
    "    for i in range(num_splits):\n",
    "        print(f\"Epoch {t}, Train Split: {i+1}\\n--------------------------\")\n",
    "        processed_train = pd.read_csv('./processed_data/processed_train.gz', skiprows=range(1,split_length*2), nrows=split_length)        \n",
    "        train_dataset = MyDataset(processed_train)\n",
    "        train_dataloader = DataLoader(train_dataset, batch_size=BATCH_SIZE, shuffle=True)\n",
    "        train_loss = train_loop(train_dataloader, net, loss_fn, optimizer, device)\n",
    "\n",
    "        val_loss = val_loop(val_dataloader, net, loss_fn, device)\n",
    "        tb.add_scalar(\"Train Loss\", train_loss, step)\n",
    "        tb.add_scalar(\"Val Loss\", val_loss, step)\n",
    "    \n",
    "        torch.save(net, f\"./checkpoint/{experiment_name}/epoch_{t}_step_{i}.pt\")\n",
    "        if val_loss < min_val_loss:\n",
    "            best_epoch = t\n",
    "            best_step = i\n",
    "            min_val_loss = val_loss\n",
    "print(f\"best epoch: {best_epoch}, best step: {best_step}, minimun validations loss: {min_val_loss:.2e}\")"
   ]
  },
  {
   "cell_type": "code",
   "execution_count": null,
   "metadata": {},
   "outputs": [],
   "source": []
  }
 ],
 "metadata": {
  "kernelspec": {
   "display_name": "gresearch",
   "language": "python",
   "name": "python3"
  },
  "language_info": {
   "codemirror_mode": {
    "name": "ipython",
    "version": 3
   },
   "file_extension": ".py",
   "mimetype": "text/x-python",
   "name": "python",
   "nbconvert_exporter": "python",
   "pygments_lexer": "ipython3",
   "version": "3.9.18"
  }
 },
 "nbformat": 4,
 "nbformat_minor": 2
}

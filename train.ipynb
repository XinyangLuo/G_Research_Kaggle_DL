{
 "cells": [
  {
   "cell_type": "code",
   "execution_count": 1,
   "metadata": {},
   "outputs": [],
   "source": [
    "import os\n",
    "import torch\n",
    "import math\n",
    "\n",
    "import pandas as pd\n",
    "\n",
    "from torch.utils.data import DataLoader\n",
    "from tensorboardX import SummaryWriter\n",
    "from utils import train_loop, val_loop\n",
    "from model import MyDataset, CryptoTransformer, MSEPlusRank"
   ]
  },
  {
   "cell_type": "code",
   "execution_count": 21,
   "metadata": {},
   "outputs": [],
   "source": [
    "# hyperparameters\n",
    "NUM_FEATURES = 68\n",
    "\n",
    "BATCH_SIZE = 64\n",
    "MODEL_DIM = 64\n",
    "FFN_DIM = 64\n",
    "DROPOUT = 0.3\n",
    "NUM_HEADS = 4\n",
    "NUM_LAYERS = 2\n",
    "MAX_EPOCH = 3\n",
    "experiment_name = f\"size_{MODEL_DIM}_{FFN_DIM}_nheads_{NUM_HEADS}_nlayers_{NUM_LAYERS}\"\n",
    "\n",
    "if torch.cuda.is_available():\n",
    "    device = 'cuda'\n",
    "else:\n",
    "    device = 'cpu'"
   ]
  },
  {
   "cell_type": "code",
   "execution_count": 8,
   "metadata": {},
   "outputs": [],
   "source": [
    "train_length = 24236806\n",
    "num_splits = 10\n",
    "split_length = math.floor(train_length/num_splits)\n",
    "\n",
    "processed_val = pd.read_csv('./processed_data/processed_val.gz')\n",
    "val_dataset = MyDataset(processed_val)\n",
    "val_dataloader = DataLoader(val_dataset, batch_size=BATCH_SIZE, shuffle=True)"
   ]
  },
  {
   "cell_type": "code",
   "execution_count": 22,
   "metadata": {},
   "outputs": [
    {
     "name": "stdout",
     "output_type": "stream",
     "text": [
      "Total number of parameters: 80K, number of trainable parameters: 80K\n"
     ]
    }
   ],
   "source": [
    "net = CryptoTransformer(model_dim=MODEL_DIM, num_heads=NUM_HEADS, num_layers=NUM_LAYERS, dropout=DROPOUT, ffn_dim=FFN_DIM, num_features=NUM_FEATURES).to(device)\n",
    "loss_fn = MSEPlusRank(lamda=1)\n",
    "optimizer = torch.optim.AdamW(net.parameters())\n",
    "total_num = sum(p.numel() for p in net.parameters())\n",
    "trainable_num = sum(p.numel() for p in net.parameters() if p.requires_grad)\n",
    "print(f\"Total number of parameters: {total_num/1e3:.0f}K, number of trainable parameters: {trainable_num/1e3:.0f}K\")"
   ]
  },
  {
   "cell_type": "code",
   "execution_count": 23,
   "metadata": {},
   "outputs": [],
   "source": [
    "if not os.path.exists(f'./checkpoint/{experiment_name}'):\n",
    "    os.mkdir(f'./checkpoint/{experiment_name}')\n",
    "if not os.path.exists(f'./logs/{experiment_name}'):\n",
    "    os.mkdir(f'./logs/{experiment_name}')"
   ]
  },
  {
   "cell_type": "code",
   "execution_count": 24,
   "metadata": {},
   "outputs": [
    {
     "name": "stdout",
     "output_type": "stream",
     "text": [
      "Epoch 1, Train Split: 1\n",
      "--------------------------\n"
     ]
    },
    {
     "name": "stderr",
     "output_type": "stream",
     "text": [
      "100%|██████████| 3210/3210 [02:01<00:00, 26.39it/s, train loss=0.0148]\n",
      "100%|██████████| 1266/1266 [00:34<00:00, 37.02it/s, val loss=0.0451]\n"
     ]
    },
    {
     "name": "stdout",
     "output_type": "stream",
     "text": [
      "Epoch 1, Train Split: 2\n",
      "--------------------------\n"
     ]
    },
    {
     "name": "stderr",
     "output_type": "stream",
     "text": [
      "100%|██████████| 3210/3210 [01:56<00:00, 27.65it/s, train loss=7.82e-5] \n",
      "100%|██████████| 1266/1266 [00:31<00:00, 39.75it/s, val loss=0.0211]\n"
     ]
    },
    {
     "name": "stdout",
     "output_type": "stream",
     "text": [
      "Epoch 1, Train Split: 3\n",
      "--------------------------\n"
     ]
    },
    {
     "name": "stderr",
     "output_type": "stream",
     "text": [
      "100%|██████████| 3210/3210 [01:48<00:00, 29.48it/s, train loss=3.96e-5]\n",
      "100%|██████████| 1266/1266 [00:31<00:00, 40.07it/s, val loss=0.00955]\n"
     ]
    },
    {
     "name": "stdout",
     "output_type": "stream",
     "text": [
      "Epoch 1, Train Split: 4\n",
      "--------------------------\n"
     ]
    },
    {
     "name": "stderr",
     "output_type": "stream",
     "text": [
      "100%|██████████| 3210/3210 [01:51<00:00, 28.79it/s, train loss=3.35e-5]\n",
      "100%|██████████| 1266/1266 [00:33<00:00, 38.20it/s, val loss=0.0079] \n"
     ]
    },
    {
     "name": "stdout",
     "output_type": "stream",
     "text": [
      "Epoch 1, Train Split: 5\n",
      "--------------------------\n"
     ]
    },
    {
     "name": "stderr",
     "output_type": "stream",
     "text": [
      "100%|██████████| 3210/3210 [01:58<00:00, 27.01it/s, train loss=3.2e-5] \n",
      "100%|██████████| 1266/1266 [00:32<00:00, 38.41it/s, val loss=0.00239]\n"
     ]
    },
    {
     "name": "stdout",
     "output_type": "stream",
     "text": [
      "Epoch 1, Train Split: 6\n",
      "--------------------------\n"
     ]
    },
    {
     "name": "stderr",
     "output_type": "stream",
     "text": [
      "100%|██████████| 3210/3210 [01:53<00:00, 28.37it/s, train loss=3.12e-5]\n",
      "100%|██████████| 1266/1266 [00:36<00:00, 34.38it/s, val loss=0.000506]\n"
     ]
    },
    {
     "name": "stdout",
     "output_type": "stream",
     "text": [
      "Epoch 1, Train Split: 7\n",
      "--------------------------\n"
     ]
    },
    {
     "name": "stderr",
     "output_type": "stream",
     "text": [
      "100%|██████████| 3210/3210 [01:57<00:00, 27.29it/s, train loss=3.08e-5]\n",
      "100%|██████████| 1266/1266 [00:33<00:00, 38.34it/s, val loss=0.000119]\n"
     ]
    },
    {
     "name": "stdout",
     "output_type": "stream",
     "text": [
      "Epoch 1, Train Split: 8\n",
      "--------------------------\n"
     ]
    },
    {
     "name": "stderr",
     "output_type": "stream",
     "text": [
      "100%|██████████| 3210/3210 [01:57<00:00, 27.33it/s, train loss=3.03e-5]\n",
      "100%|██████████| 1266/1266 [00:32<00:00, 38.61it/s, val loss=3.35e-5]\n"
     ]
    },
    {
     "name": "stdout",
     "output_type": "stream",
     "text": [
      "Epoch 1, Train Split: 9\n",
      "--------------------------\n"
     ]
    },
    {
     "name": "stderr",
     "output_type": "stream",
     "text": [
      "100%|██████████| 3210/3210 [01:49<00:00, 29.45it/s, train loss=3.01e-5]\n",
      "100%|██████████| 1266/1266 [00:32<00:00, 39.34it/s, val loss=5.61e-5]\n"
     ]
    },
    {
     "name": "stdout",
     "output_type": "stream",
     "text": [
      "Epoch 1, Train Split: 10\n",
      "--------------------------\n"
     ]
    },
    {
     "name": "stderr",
     "output_type": "stream",
     "text": [
      "100%|██████████| 3210/3210 [01:56<00:00, 27.56it/s, train loss=2.97e-5]\n",
      "100%|██████████| 1266/1266 [00:33<00:00, 37.34it/s, val loss=2.19e-5]\n"
     ]
    },
    {
     "name": "stdout",
     "output_type": "stream",
     "text": [
      "Epoch 2, Train Split: 1\n",
      "--------------------------\n"
     ]
    },
    {
     "name": "stderr",
     "output_type": "stream",
     "text": [
      " 66%|██████▌   | 2106/3210 [01:14<00:42, 26.21it/s, train loss=2.94e-5]"
     ]
    }
   ],
   "source": [
    "min_val_loss = float('inf')\n",
    "best_epoch = 1\n",
    "best_step = 1\n",
    "step = 0\n",
    "\n",
    "tb = SummaryWriter(log_dir=f'./logs/{experiment_name}/')\n",
    "for t in range(MAX_EPOCH):\n",
    "    for i in range(num_splits):\n",
    "        print(f\"Epoch {t+1}, Train Split: {i+1}\\n--------------------------\")\n",
    "        processed_train = pd.read_csv('./processed_data/processed_train.gz', skiprows=range(1,split_length*2), nrows=split_length)        \n",
    "        train_dataset = MyDataset(processed_train)\n",
    "        train_dataloader = DataLoader(train_dataset, batch_size=BATCH_SIZE, shuffle=True)\n",
    "        train_loss = train_loop(train_dataloader, net, loss_fn, optimizer, device)\n",
    "\n",
    "        val_loss = val_loop(val_dataloader, net, loss_fn, device)\n",
    "        tb.add_scalar(\"Train Loss\", train_loss, t*num_splits+i+1)\n",
    "        tb.add_scalar(\"Val Loss\", val_loss, t*num_splits+i+1)\n",
    "    \n",
    "        torch.save(net, f\"./checkpoint/{experiment_name}/epoch_{t+1}_step_{i+1}.pt\")\n",
    "        if val_loss < min_val_loss:\n",
    "            best_epoch = t+1\n",
    "            best_step = i+1\n",
    "            min_val_loss = val_loss\n",
    "print(f\"best epoch: {best_epoch}, best step: {best_step}, minimun validations loss: {min_val_loss:.2e}\")"
   ]
  },
  {
   "cell_type": "code",
   "execution_count": null,
   "metadata": {},
   "outputs": [],
   "source": []
  }
 ],
 "metadata": {
  "kernelspec": {
   "display_name": "gresearch",
   "language": "python",
   "name": "python3"
  },
  "language_info": {
   "codemirror_mode": {
    "name": "ipython",
    "version": 3
   },
   "file_extension": ".py",
   "mimetype": "text/x-python",
   "name": "python",
   "nbconvert_exporter": "python",
   "pygments_lexer": "ipython3",
   "version": "3.9.18"
  }
 },
 "nbformat": 4,
 "nbformat_minor": 2
}

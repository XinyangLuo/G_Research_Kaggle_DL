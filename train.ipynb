{
 "cells": [
  {
   "cell_type": "code",
   "execution_count": 6,
   "metadata": {},
   "outputs": [],
   "source": [
    "import os\n",
    "import torch\n",
    "import math\n",
    "\n",
    "import pandas as pd\n",
    "import torch.nn as nn\n",
    "\n",
    "from torch.utils.data import DataLoader\n",
    "from tensorboardX import SummaryWriter\n",
    "from utils import train_loop, val_loop\n",
    "from model import MyDataset, CryptoTransformer"
   ]
  },
  {
   "cell_type": "code",
   "execution_count": 9,
   "metadata": {},
   "outputs": [],
   "source": [
    "# hyperparameters\n",
    "BATCH_SIZE = 64\n",
    "NUM_FEATURES = 68\n",
    "MODEL_DIM = 64\n",
    "FFN_DIM = 128\n",
    "DROPOUT = 0.3\n",
    "NUM_HEADS = 2\n",
    "NUM_LAYERS = 2\n",
    "MAX_EPOCH = 10\n",
    "experiment_name = 'model_v1.0'\n",
    "\n",
    "if torch.cuda.is_available():\n",
    "    device = 'cuda'\n",
    "elif torch.backends.mps.is_available():\n",
    "    device = 'mps'\n",
    "else:\n",
    "    device = 'cpu'"
   ]
  },
  {
   "cell_type": "code",
   "execution_count": 10,
   "metadata": {},
   "outputs": [],
   "source": [
    "train_length = 24236806\n",
    "num_splits = 10\n",
    "split_length = math.floor(train_length/num_splits)\n",
    "\n",
    "processed_val = pd.read_csv('./processed_data/processed_val.gz')\n",
    "val_dataset = MyDataset(processed_val)\n",
    "val_dataloader = DataLoader(val_dataset, batch_size=BATCH_SIZE, shuffle=True)"
   ]
  },
  {
   "cell_type": "code",
   "execution_count": 15,
   "metadata": {},
   "outputs": [
    {
     "name": "stdout",
     "output_type": "stream",
     "text": [
      "Total number of parameters: 105K, number of trainable parameters: 105K\n"
     ]
    }
   ],
   "source": [
    "net = CryptoTransformer(model_dim=MODEL_DIM, num_heads=NUM_HEADS, num_layers=NUM_LAYERS, dropout=DROPOUT, ffn_dim=FFN_DIM, num_features=NUM_FEATURES).to(device)\n",
    "loss_fn = nn.MSELoss(reduction='mean')\n",
    "optimizer = torch.optim.AdamW(net.parameters())\n",
    "total_num = sum(p.numel() for p in net.parameters())\n",
    "trainable_num = sum(p.numel() for p in net.parameters() if p.requires_grad)\n",
    "print(f\"Total number of parameters: {total_num/1e3:.0f}K, number of trainable parameters: {trainable_num/1e3:.0f}K\")"
   ]
  },
  {
   "cell_type": "code",
   "execution_count": 17,
   "metadata": {},
   "outputs": [],
   "source": [
    "if not os.path.exists(f'./checkpoint/{experiment_name}'):\n",
    "    os.mkdir(f'./checkpoint/{experiment_name}')\n",
    "if not os.path.exists(f'./logs/{experiment_name}'):\n",
    "    os.mkdir(f'./logs/{experiment_name}')"
   ]
  },
  {
   "cell_type": "code",
   "execution_count": 16,
   "metadata": {},
   "outputs": [
    {
     "name": "stdout",
     "output_type": "stream",
     "text": [
      "Epoch 1, Train Split: 1\n",
      "--------------------------\n"
     ]
    },
    {
     "name": "stderr",
     "output_type": "stream",
     "text": [
      "100%|██████████| 4226/4226 [02:48<00:00, 25.09it/s, running_loss=0.00497]\n",
      "100%|██████████| 1266/1266 [00:31<00:00, 39.95it/s, running_loss=0.00525]\n"
     ]
    },
    {
     "ename": "RuntimeError",
     "evalue": "Parent directory ./checkpoint/model_v1.0 does not exist.",
     "output_type": "error",
     "traceback": [
      "\u001b[0;31m---------------------------------------------------------------------------\u001b[0m",
      "\u001b[0;31mRuntimeError\u001b[0m                              Traceback (most recent call last)",
      "\u001b[1;32m/Users/luoxinyang/Desktop/HKUST/2023Fall/MAFS6010Z/project3.nosync/main.ipynb 单元格 6\u001b[0m line \u001b[0;36m2\n\u001b[1;32m     <a href='vscode-notebook-cell:/Users/luoxinyang/Desktop/HKUST/2023Fall/MAFS6010Z/project3.nosync/main.ipynb#X31sZmlsZQ%3D%3D?line=15'>16</a>\u001b[0m tb\u001b[39m.\u001b[39madd_scalar(\u001b[39m\"\u001b[39m\u001b[39mVal Loss\u001b[39m\u001b[39m\"\u001b[39m, val_loss, step)\n\u001b[1;32m     <a href='vscode-notebook-cell:/Users/luoxinyang/Desktop/HKUST/2023Fall/MAFS6010Z/project3.nosync/main.ipynb#X31sZmlsZQ%3D%3D?line=17'>18</a>\u001b[0m step \u001b[39m+\u001b[39m\u001b[39m=\u001b[39m \u001b[39m1\u001b[39m\n\u001b[0;32m---> <a href='vscode-notebook-cell:/Users/luoxinyang/Desktop/HKUST/2023Fall/MAFS6010Z/project3.nosync/main.ipynb#X31sZmlsZQ%3D%3D?line=19'>20</a>\u001b[0m torch\u001b[39m.\u001b[39;49msave(net, \u001b[39mf\u001b[39;49m\u001b[39m\"\u001b[39;49m\u001b[39m./checkpoint/\u001b[39;49m\u001b[39m{\u001b[39;49;00mexperiment_name\u001b[39m}\u001b[39;49;00m\u001b[39m/step_\u001b[39;49m\u001b[39m{\u001b[39;49;00mstep\u001b[39m}\u001b[39;49;00m\u001b[39m.pt\u001b[39;49m\u001b[39m\"\u001b[39;49m)\n\u001b[1;32m     <a href='vscode-notebook-cell:/Users/luoxinyang/Desktop/HKUST/2023Fall/MAFS6010Z/project3.nosync/main.ipynb#X31sZmlsZQ%3D%3D?line=20'>21</a>\u001b[0m \u001b[39mif\u001b[39;00m val_loss \u001b[39m<\u001b[39m min_val_loss:\n\u001b[1;32m     <a href='vscode-notebook-cell:/Users/luoxinyang/Desktop/HKUST/2023Fall/MAFS6010Z/project3.nosync/main.ipynb#X31sZmlsZQ%3D%3D?line=21'>22</a>\u001b[0m     best_step \u001b[39m=\u001b[39m t\n",
      "File \u001b[0;32m~/opt/anaconda3/envs/gresearch/lib/python3.9/site-packages/torch/serialization.py:618\u001b[0m, in \u001b[0;36msave\u001b[0;34m(obj, f, pickle_module, pickle_protocol, _use_new_zipfile_serialization, _disable_byteorder_record)\u001b[0m\n\u001b[1;32m    615\u001b[0m _check_save_filelike(f)\n\u001b[1;32m    617\u001b[0m \u001b[39mif\u001b[39;00m _use_new_zipfile_serialization:\n\u001b[0;32m--> 618\u001b[0m     \u001b[39mwith\u001b[39;00m _open_zipfile_writer(f) \u001b[39mas\u001b[39;00m opened_zipfile:\n\u001b[1;32m    619\u001b[0m         _save(obj, opened_zipfile, pickle_module, pickle_protocol, _disable_byteorder_record)\n\u001b[1;32m    620\u001b[0m         \u001b[39mreturn\u001b[39;00m\n",
      "File \u001b[0;32m~/opt/anaconda3/envs/gresearch/lib/python3.9/site-packages/torch/serialization.py:492\u001b[0m, in \u001b[0;36m_open_zipfile_writer\u001b[0;34m(name_or_buffer)\u001b[0m\n\u001b[1;32m    490\u001b[0m \u001b[39melse\u001b[39;00m:\n\u001b[1;32m    491\u001b[0m     container \u001b[39m=\u001b[39m _open_zipfile_writer_buffer\n\u001b[0;32m--> 492\u001b[0m \u001b[39mreturn\u001b[39;00m container(name_or_buffer)\n",
      "File \u001b[0;32m~/opt/anaconda3/envs/gresearch/lib/python3.9/site-packages/torch/serialization.py:463\u001b[0m, in \u001b[0;36m_open_zipfile_writer_file.__init__\u001b[0;34m(self, name)\u001b[0m\n\u001b[1;32m    461\u001b[0m     \u001b[39msuper\u001b[39m()\u001b[39m.\u001b[39m\u001b[39m__init__\u001b[39m(torch\u001b[39m.\u001b[39m_C\u001b[39m.\u001b[39mPyTorchFileWriter(\u001b[39mself\u001b[39m\u001b[39m.\u001b[39mfile_stream))\n\u001b[1;32m    462\u001b[0m \u001b[39melse\u001b[39;00m:\n\u001b[0;32m--> 463\u001b[0m     \u001b[39msuper\u001b[39m()\u001b[39m.\u001b[39m\u001b[39m__init__\u001b[39m(torch\u001b[39m.\u001b[39;49m_C\u001b[39m.\u001b[39;49mPyTorchFileWriter(\u001b[39mself\u001b[39;49m\u001b[39m.\u001b[39;49mname))\n",
      "\u001b[0;31mRuntimeError\u001b[0m: Parent directory ./checkpoint/model_v1.0 does not exist."
     ]
    }
   ],
   "source": [
    "min_val_loss = float('inf')\n",
    "best_epoch = 1\n",
    "best_step = 1\n",
    "step = 0\n",
    "\n",
    "tb = SummaryWriter(log_dir=f'./logs/experiment_name/')\n",
    "for t in range(1, MAX_EPOCH+1):\n",
    "    for i in range(num_splits):\n",
    "        print(f\"Epoch {t}, Train Split: {i+1}\\n--------------------------\")\n",
    "        processed_train = pd.read_csv('./processed_data/processed_train.gz', skiprows=split_length*i, nrows=split_length)\n",
    "        train_dataset = MyDataset(processed_train)\n",
    "        train_dataloader = DataLoader(train_dataset, batch_size=BATCH_SIZE, shuffle=True)\n",
    "        train_loss = train_loop(train_dataloader, net, loss_fn, optimizer, device)\n",
    "\n",
    "        val_loss = val_loop(val_dataloader, net, loss_fn, device)\n",
    "        tb.add_scalar(\"Train Loss\", train_loss, step)\n",
    "        tb.add_scalar(\"Val Loss\", val_loss, step)\n",
    "    \n",
    "        torch.save(net, f\"./checkpoint/{experiment_name}/epoch_{t}_step_{i}.pt\")\n",
    "        if val_loss < min_val_loss:\n",
    "            best_epoch = t\n",
    "            best_step = i\n",
    "            min_val_loss = val_loss\n",
    "print(f\"best epoch: {best_epoch}, best step: {best_step}, minimun validations loss: {min_val_loss:.2e}\")"
   ]
  }
 ],
 "metadata": {
  "kernelspec": {
   "display_name": "gresearch",
   "language": "python",
   "name": "python3"
  },
  "language_info": {
   "codemirror_mode": {
    "name": "ipython",
    "version": 3
   },
   "file_extension": ".py",
   "mimetype": "text/x-python",
   "name": "python",
   "nbconvert_exporter": "python",
   "pygments_lexer": "ipython3",
   "version": "3.9.18"
  }
 },
 "nbformat": 4,
 "nbformat_minor": 2
}

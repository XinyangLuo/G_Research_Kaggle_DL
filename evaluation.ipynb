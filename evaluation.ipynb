{
 "cells": [
  {
   "cell_type": "code",
   "execution_count": null,
   "metadata": {},
   "outputs": [],
   "source": [
    "import torch\n",
    "\n",
    "import pandas as pd\n",
    "\n",
    "from tqdm import tqdm\n",
    "from model import CryptoTransformer, MyDataset\n",
    "from utils import weighted_corr"
   ]
  },
  {
   "cell_type": "code",
   "execution_count": null,
   "metadata": {},
   "outputs": [],
   "source": [
    "processed_test = pd.read_csv('./processed_data/processed_test.gz')\n",
    "asset_list = pd.read_csv('./g-research-crypto-forecasting/asset_details.csv')"
   ]
  },
  {
   "cell_type": "code",
   "execution_count": null,
   "metadata": {},
   "outputs": [],
   "source": [
    "net = torch.load('./checkpoint/model_v1.0/step_1.pt')\n",
    "test_dataset = MyDataset(processed_test)"
   ]
  },
  {
   "cell_type": "code",
   "execution_count": null,
   "metadata": {},
   "outputs": [],
   "source": [
    "predictions = []\n",
    "net.eval()\n",
    "net = net.cpu()\n",
    "with torch.no_grad():\n",
    "    with tqdm(test_dataset) as t:\n",
    "        for x, y, num_assets in t:\n",
    "            y_pred = net(x)\n",
    "            y_pred = y_pred[:num_assets]\n",
    "            predictions.append(y_pred)"
   ]
  },
  {
   "cell_type": "code",
   "execution_count": null,
   "metadata": {},
   "outputs": [],
   "source": [
    "predictions = torch.cat(predictions).numpy()\n",
    "processed_test['Predictions'] = predictions\n",
    "asset_list.set_index('Asset_ID', inplace=True)\n",
    "processed_test['Weight'] = processed_test['Asset_ID'].apply(lambda x: asset_list.loc[x]['Weight'])"
   ]
  },
  {
   "cell_type": "code",
   "execution_count": null,
   "metadata": {},
   "outputs": [],
   "source": [
    "corr = weighted_corr(processed_test['Predictions'], processed_test['Target'], processed_test['Weight'])\n",
    "print(f'Weighted Pearson Coefficient: {corr:.2e}')"
   ]
  },
  {
   "cell_type": "code",
   "execution_count": null,
   "metadata": {},
   "outputs": [],
   "source": []
  }
 ],
 "metadata": {
  "kernelspec": {
   "display_name": "gresearch",
   "language": "python",
   "name": "python3"
  },
  "language_info": {
   "codemirror_mode": {
    "name": "ipython",
    "version": 3
   },
   "file_extension": ".py",
   "mimetype": "text/x-python",
   "name": "python",
   "nbconvert_exporter": "python",
   "pygments_lexer": "ipython3",
   "version": "3.9.18"
  }
 },
 "nbformat": 4,
 "nbformat_minor": 2
}

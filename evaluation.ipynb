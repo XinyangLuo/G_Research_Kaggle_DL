{
 "cells": [
  {
   "cell_type": "code",
   "execution_count": 1,
   "metadata": {},
   "outputs": [],
   "source": [
    "import torch\n",
    "\n",
    "import pandas as pd\n",
    "import numpy as np\n",
    "\n",
    "from tqdm import tqdm\n",
    "from model import CryptoTransformer, MyDataset\n",
    "from utils import weighted_corr"
   ]
  },
  {
   "cell_type": "code",
   "execution_count": 2,
   "metadata": {},
   "outputs": [],
   "source": [
    "processed_test = pd.read_csv('./processed_data/processed_test.gz')\n",
    "asset_list = pd.read_csv('./g-research-crypto-forecasting/asset_details.csv')\n",
    "asset_list.set_index('Asset_ID', inplace=True)\n",
    "processed_test['Weight'] = processed_test['Asset_ID'].apply(lambda x: asset_list.loc[x]['Weight'])"
   ]
  },
  {
   "cell_type": "code",
   "execution_count": 45,
   "metadata": {},
   "outputs": [],
   "source": [
    "net = torch.load('./checkpoint/size_128_128_nheads_4_nlayers_2/epoch_2_step_8.pt')\n",
    "test_dataset = MyDataset(processed_test)"
   ]
  },
  {
   "cell_type": "code",
   "execution_count": 46,
   "metadata": {},
   "outputs": [
    {
     "name": "stderr",
     "output_type": "stream",
     "text": [
      "100%|██████████| 81010/81010 [02:05<00:00, 646.30it/s]\n"
     ]
    }
   ],
   "source": [
    "predictions = []\n",
    "net.eval()\n",
    "net = net.cpu()\n",
    "with torch.no_grad():\n",
    "    with tqdm(test_dataset) as t:\n",
    "        for step, (x, y, num_assets) in enumerate(t):\n",
    "            mask = torch.arange(14)\n",
    "            mask = mask < num_assets\n",
    "            y_pred = net(x, mask)\n",
    "            y_pred = y_pred[:num_assets]\n",
    "            predictions.append(y_pred)"
   ]
  },
  {
   "cell_type": "code",
   "execution_count": 47,
   "metadata": {},
   "outputs": [],
   "source": [
    "predictions = torch.cat(predictions).numpy()\n",
    "processed_test['Predictions'] = predictions"
   ]
  },
  {
   "cell_type": "code",
   "execution_count": 48,
   "metadata": {},
   "outputs": [
    {
     "name": "stdout",
     "output_type": "stream",
     "text": [
      "Pearson Correlation: 4.30e-03, Weighted Pearson Correlation: 4.37e-03\n"
     ]
    }
   ],
   "source": [
    "p_corr = np.corrcoef(processed_test['Predictions'], processed_test['Target'])[1][0]\n",
    "w_corr = weighted_corr(processed_test['Predictions'], processed_test['Target'], processed_test['Weight'])\n",
    "print(f'Pearson Correlation: {p_corr:.2e}, Weighted Pearson Correlation: {w_corr:.2e}')"
   ]
  },
  {
   "cell_type": "code",
   "execution_count": null,
   "metadata": {},
   "outputs": [],
   "source": []
  }
 ],
 "metadata": {
  "kernelspec": {
   "display_name": "gresearch",
   "language": "python",
   "name": "python3"
  },
  "language_info": {
   "codemirror_mode": {
    "name": "ipython",
    "version": 3
   },
   "file_extension": ".py",
   "mimetype": "text/x-python",
   "name": "python",
   "nbconvert_exporter": "python",
   "pygments_lexer": "ipython3",
   "version": "3.9.18"
  }
 },
 "nbformat": 4,
 "nbformat_minor": 2
}

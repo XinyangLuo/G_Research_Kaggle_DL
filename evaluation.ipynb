{
 "cells": [
  {
   "cell_type": "code",
   "execution_count": 78,
   "metadata": {},
   "outputs": [],
   "source": [
    "import torch\n",
    "\n",
    "import pandas as pd\n",
    "import numpy as np\n",
    "\n",
    "from tqdm import tqdm\n",
    "from model import CryptoTransformer, MyDataset\n",
    "from utils import weighted_corr"
   ]
  },
  {
   "cell_type": "code",
   "execution_count": null,
   "metadata": {},
   "outputs": [],
   "source": [
    "processed_test = pd.read_csv('./processed_data/processed_test.gz')\n",
    "asset_list = pd.read_csv('./g-research-crypto-forecasting/asset_details.csv')\n",
    "asset_list.set_index('Asset_ID', inplace=True)\n",
    "processed_test['Weight'] = processed_test['Asset_ID'].apply(lambda x: asset_list.loc[x]['Weight'])"
   ]
  },
  {
   "cell_type": "code",
   "execution_count": 57,
   "metadata": {},
   "outputs": [],
   "source": [
    "net = torch.load('./checkpoint/model_v1.0/epoch_3_step_8.pt')\n",
    "test_dataset = MyDataset(processed_test)"
   ]
  },
  {
   "cell_type": "code",
   "execution_count": 58,
   "metadata": {},
   "outputs": [
    {
     "name": "stderr",
     "output_type": "stream",
     "text": [
      "100%|██████████| 81010/81010 [01:05<00:00, 1233.35it/s]\n"
     ]
    }
   ],
   "source": [
    "predictions = []\n",
    "net.eval()\n",
    "net = net.cpu()\n",
    "with torch.no_grad():\n",
    "    with tqdm(test_dataset) as t:\n",
    "        for x, y, num_assets in t:\n",
    "            y_pred = net(x)\n",
    "            y_pred = y_pred[:num_assets]\n",
    "            predictions.append(y_pred)"
   ]
  },
  {
   "cell_type": "code",
   "execution_count": 59,
   "metadata": {},
   "outputs": [],
   "source": [
    "predictions = torch.cat(predictions).numpy()\n",
    "processed_test['Predictions'] = predictions"
   ]
  },
  {
   "cell_type": "code",
   "execution_count": 79,
   "metadata": {},
   "outputs": [
    {
     "name": "stdout",
     "output_type": "stream",
     "text": [
      "Pearson Correlation: -3.52e-03, Weighted Pearson Correlation: -2.33e-03\n"
     ]
    }
   ],
   "source": [
    "corr = np.corrcoef(processed_test['Predictions'], processed_test['Target'])[1][0]\n",
    "w_corr = weighted_corr(processed_test['Predictions'], processed_test['Target'], processed_test['Weight'])\n",
    "print(f'Pearson Correlation: {corr:.2e}, Weighted Pearson Correlation: {w_corr:.2e}')"
   ]
  },
  {
   "cell_type": "code",
   "execution_count": 62,
   "metadata": {},
   "outputs": [
    {
     "data": {
      "text/plain": [
       "0         -0.002932\n",
       "1         -0.002353\n",
       "2         -0.001510\n",
       "3          0.001920\n",
       "4         -0.001293\n",
       "             ...   \n",
       "1130823    0.000047\n",
       "1130824   -0.002006\n",
       "1130825    0.000281\n",
       "1130826   -0.001046\n",
       "1130827    0.000406\n",
       "Name: Target, Length: 1130828, dtype: float64"
      ]
     },
     "execution_count": 62,
     "metadata": {},
     "output_type": "execute_result"
    }
   ],
   "source": [
    "processed_test['Target']"
   ]
  }
 ],
 "metadata": {
  "kernelspec": {
   "display_name": "gresearch",
   "language": "python",
   "name": "python3"
  },
  "language_info": {
   "codemirror_mode": {
    "name": "ipython",
    "version": 3
   },
   "file_extension": ".py",
   "mimetype": "text/x-python",
   "name": "python",
   "nbconvert_exporter": "python",
   "pygments_lexer": "ipython3",
   "version": "3.9.18"
  }
 },
 "nbformat": 4,
 "nbformat_minor": 2
}
